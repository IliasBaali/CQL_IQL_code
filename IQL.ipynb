{
 "cells": [
  {
   "cell_type": "markdown",
   "metadata": {},
   "source": [
    "This notebook implements Implicit Q-Learning to solve Maze 2D."
   ]
  },
  {
   "cell_type": "code",
   "execution_count": 7,
   "metadata": {},
   "outputs": [
    {
     "data": {
      "text/plain": [
       "<contextlib.ExitStack at 0x24da512e020>"
      ]
     },
     "execution_count": 7,
     "metadata": {},
     "output_type": "execute_result"
    }
   ],
   "source": [
    "import torch\n",
    "import torch.nn as nn\n",
    "import torch.nn.functional as F\n",
    "from torch.optim import Adam\n",
    "from torch.optim.lr_scheduler import CosineAnnealingLR\n",
    "\n",
    "import numpy as np\n",
    "from loguru import logger\n",
    "import matplotlib.pyplot as plt\n",
    "from IPython.display import Image\n",
    "'''from src.utils import (\n",
    "    get_device,\n",
    "    set_seed,\n",
    "    eval_policy,\n",
    "    demo_policy,\n",
    "    plot_returns,\n",
    "    save_frames_as_gif,\n",
    "    return_range\n",
    ")'''\n",
    "#from tqdm import tqdm\n",
    "#import einops\n",
    "import os\n",
    "import copy\n",
    "\n",
    "from src.d4rl_dataset import D4RLSampler\n",
    "\n",
    "plt.ion()"
   ]
  },
  {
   "cell_type": "markdown",
   "metadata": {},
   "source": [
    "We start by importing D4RL, a library that contains training data obtained by running policy of different levels on a few environments."
   ]
  },
  {
   "cell_type": "code",
   "execution_count": 6,
   "metadata": {},
   "outputs": [
    {
     "ename": "ValueError",
     "evalue": "Couldn't find any version for dataset NathanGavenski/CartPole in the remote Farama server.",
     "output_type": "error",
     "traceback": [
      "\u001b[1;31m---------------------------------------------------------------------------\u001b[0m",
      "\u001b[1;31mValueError\u001b[0m                                Traceback (most recent call last)",
      "Cell \u001b[1;32mIn[6], line 3\u001b[0m\n\u001b[0;32m      1\u001b[0m \u001b[38;5;28;01mimport\u001b[39;00m \u001b[38;5;21;01mminari\u001b[39;00m\n\u001b[1;32m----> 3\u001b[0m dataset \u001b[38;5;241m=\u001b[39m \u001b[43mminari\u001b[49m\u001b[38;5;241;43m.\u001b[39;49m\u001b[43mload_dataset\u001b[49m\u001b[43m(\u001b[49m\u001b[38;5;124;43m\"\u001b[39;49m\u001b[38;5;124;43mNathanGavenski/CartPole-v1\u001b[39;49m\u001b[38;5;124;43m\"\u001b[39;49m\u001b[43m,\u001b[49m\u001b[43m \u001b[49m\u001b[43mdownload\u001b[49m\u001b[38;5;241;43m=\u001b[39;49m\u001b[38;5;28;43;01mTrue\u001b[39;49;00m\u001b[43m)\u001b[49m\n\u001b[0;32m      5\u001b[0m \u001b[38;5;28;01mfor\u001b[39;00m episode_data \u001b[38;5;129;01min\u001b[39;00m dataset\u001b[38;5;241m.\u001b[39miterate_episodes():\n\u001b[0;32m      6\u001b[0m     observations \u001b[38;5;241m=\u001b[39m episode_data\u001b[38;5;241m.\u001b[39mobservations\n",
      "File \u001b[1;32mc:\\Users\\ibaali3\\Github\\CQL_IQL_code\\venv\\lib\\site-packages\\minari\\storage\\local.py:55\u001b[0m, in \u001b[0;36mload_dataset\u001b[1;34m(dataset_id, download)\u001b[0m\n\u001b[0;32m     50\u001b[0m     \u001b[38;5;28;01mif\u001b[39;00m \u001b[38;5;129;01mnot\u001b[39;00m download:\n\u001b[0;32m     51\u001b[0m         \u001b[38;5;28;01mraise\u001b[39;00m \u001b[38;5;167;01mFileNotFoundError\u001b[39;00m(\n\u001b[0;32m     52\u001b[0m             \u001b[38;5;124mf\u001b[39m\u001b[38;5;124m\"\u001b[39m\u001b[38;5;124mDataset \u001b[39m\u001b[38;5;132;01m{\u001b[39;00mdataset_id\u001b[38;5;132;01m}\u001b[39;00m\u001b[38;5;124m not found locally at \u001b[39m\u001b[38;5;132;01m{\u001b[39;00mfile_path\u001b[38;5;132;01m}\u001b[39;00m\u001b[38;5;124m. Use download=True to download the dataset.\u001b[39m\u001b[38;5;124m\"\u001b[39m\n\u001b[0;32m     53\u001b[0m         )\n\u001b[1;32m---> 55\u001b[0m     \u001b[43mhosting\u001b[49m\u001b[38;5;241;43m.\u001b[39;49m\u001b[43mdownload_dataset\u001b[49m\u001b[43m(\u001b[49m\u001b[43mdataset_id\u001b[49m\u001b[43m)\u001b[49m\n\u001b[0;32m     57\u001b[0m \u001b[38;5;28;01mreturn\u001b[39;00m MinariDataset(data_path)\n",
      "File \u001b[1;32mc:\\Users\\ibaali3\\Github\\CQL_IQL_code\\venv\\lib\\site-packages\\minari\\storage\\hosting.py:95\u001b[0m, in \u001b[0;36mdownload_dataset\u001b[1;34m(dataset_id, force_download)\u001b[0m\n\u001b[0;32m     93\u001b[0m \u001b[38;5;66;03m# 1. Check if there are any remote versions of the dataset at all\u001b[39;00m\n\u001b[0;32m     94\u001b[0m \u001b[38;5;28;01mif\u001b[39;00m \u001b[38;5;129;01mnot\u001b[39;00m all_dataset_versions:\n\u001b[1;32m---> 95\u001b[0m     \u001b[38;5;28;01mraise\u001b[39;00m \u001b[38;5;167;01mValueError\u001b[39;00m(\n\u001b[0;32m     96\u001b[0m         \u001b[38;5;124mf\u001b[39m\u001b[38;5;124m\"\u001b[39m\u001b[38;5;124mCouldn\u001b[39m\u001b[38;5;124m'\u001b[39m\u001b[38;5;124mt find any version for dataset \u001b[39m\u001b[38;5;132;01m{\u001b[39;00mdataset_versionless\u001b[38;5;132;01m}\u001b[39;00m\u001b[38;5;124m in the remote Farama server.\u001b[39m\u001b[38;5;124m\"\u001b[39m\n\u001b[0;32m     97\u001b[0m     )\n\u001b[0;32m     99\u001b[0m \u001b[38;5;66;03m# 2. Check if there are any remote compatible versions with the local installed Minari version\u001b[39;00m\n\u001b[0;32m    100\u001b[0m compatible_dataset_versions \u001b[38;5;241m=\u001b[39m [\n\u001b[0;32m    101\u001b[0m     parse_dataset_id(ds_id)[\u001b[38;5;241m-\u001b[39m\u001b[38;5;241m1\u001b[39m]\n\u001b[0;32m    102\u001b[0m     \u001b[38;5;28;01mfor\u001b[39;00m ds_id, ds_metadata \u001b[38;5;129;01min\u001b[39;00m all_dataset_versions\u001b[38;5;241m.\u001b[39mitems()\n\u001b[0;32m    103\u001b[0m     \u001b[38;5;28;01mif\u001b[39;00m ds_metadata\u001b[38;5;241m.\u001b[39mget(\u001b[38;5;124m\"\u001b[39m\u001b[38;5;124mminari_version\u001b[39m\u001b[38;5;124m\"\u001b[39m) \u001b[38;5;129;01min\u001b[39;00m supported_dataset_versions\n\u001b[0;32m    104\u001b[0m ]\n",
      "\u001b[1;31mValueError\u001b[0m: Couldn't find any version for dataset NathanGavenski/CartPole in the remote Farama server."
     ]
    }
   ],
   "source": [
    "import minari\n",
    "\n",
    "dataset = minari.load_dataset(\"NathanGavenski/CartPole-v1\", download=True)\n",
    "\n",
    "for episode_data in dataset.iterate_episodes():\n",
    "    observations = episode_data.observations\n",
    "    actions = episode_data.actions\n",
    "    rewards = episode_data.rewards\n",
    "    terminations = episode_data.terminations\n",
    "    truncations = episode_data.truncations\n",
    "    infos = episode_data.infos"
   ]
  },
  {
   "cell_type": "code",
   "execution_count": null,
   "metadata": {},
   "outputs": [],
   "source": [
    "SEED: int = 42\n",
    "ENVIRONMENT_NAME: str='halfcheetah-medium-replay-v2'\n",
    "\n",
    "# torch related defaults\n",
    "DEVICE = get_device()\n",
    "torch.set_default_dtype(torch.float32)\n",
    "\n",
    "# Use random seeds for reproducibility\n",
    "set_seed(SEED)\n",
    "\n",
    "# instantiate the environment\n",
    "env = gym.make(ENVIRONMENT_NAME)\n",
    "\n",
    "# get the state and action dimensions\n",
    "action_dimension = env.action_space.shape[0]\n",
    "state_dimension = env.observation_space.shape[0]\n",
    "\n",
    "logger.info(f'Action Dimension: {action_dimension}')\n",
    "logger.info(f'Action High: {env.action_space.high}')\n",
    "logger.info(f'Action Low: {env.action_space.low}')\n",
    "logger.info(f'State Dimension: {state_dimension}')"
   ]
  }
 ],
 "metadata": {
  "kernelspec": {
   "display_name": "Python (myenv)",
   "language": "python",
   "name": "myenv"
  },
  "language_info": {
   "codemirror_mode": {
    "name": "ipython",
    "version": 3
   },
   "file_extension": ".py",
   "mimetype": "text/x-python",
   "name": "python",
   "nbconvert_exporter": "python",
   "pygments_lexer": "ipython3",
   "version": "3.10.11"
  }
 },
 "nbformat": 4,
 "nbformat_minor": 2
}
